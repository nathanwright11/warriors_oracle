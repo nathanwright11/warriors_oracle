{
 "cells": [
  {
   "cell_type": "code",
   "execution_count": 1,
   "id": "fundamental-rough",
   "metadata": {},
   "outputs": [],
   "source": [
    "import sqlite3\n",
    "import pandas as pd\n",
    "import numpy as np\n",
    "import matplotlib.pyplot as plt"
   ]
  },
  {
   "cell_type": "markdown",
   "id": "hearing-functionality",
   "metadata": {},
   "source": [
    "### Connecting to sqlite database"
   ]
  },
  {
   "cell_type": "code",
   "execution_count": 2,
   "id": "rational-choice",
   "metadata": {},
   "outputs": [],
   "source": [
    "con = sqlite3.connect('basketball.sqlite')"
   ]
  },
  {
   "cell_type": "markdown",
   "id": "freelance-routine",
   "metadata": {},
   "source": [
    "### Cursor for SQL queries"
   ]
  },
  {
   "cell_type": "code",
   "execution_count": 3,
   "id": "liberal-letter",
   "metadata": {},
   "outputs": [],
   "source": [
    "cur = con.cursor()"
   ]
  },
  {
   "cell_type": "markdown",
   "id": "pressed-religious",
   "metadata": {},
   "source": [
    "## Warriors at home (Oracle Arena) vs. Rest of League at home"
   ]
  },
  {
   "cell_type": "markdown",
   "id": "dental-seller",
   "metadata": {},
   "source": [
    "In this notebook I compare the Warriors' performance at Oracle compared to how the rest of the league performed at their home arena. I look at their FG%, 3PT%, and Wins."
   ]
  },
  {
   "cell_type": "markdown",
   "id": "forty-intelligence",
   "metadata": {},
   "source": [
    "### Warrior home games"
   ]
  },
  {
   "cell_type": "code",
   "execution_count": 4,
   "id": "still-peoples",
   "metadata": {},
   "outputs": [],
   "source": [
    "gsw_games = \"\"\"SELECT \n",
    "                   team_abbreviation_home, \n",
    "                   season_id, \n",
    "                   fg_pct_home, \n",
    "                   fg3_pct_home, \n",
    "                   wl_home\n",
    "               FROM \n",
    "                   game \n",
    "               WHERE \n",
    "                   team_abbreviation_home='GSW' \n",
    "                   AND \n",
    "                   season_id BETWEEN 22006 AND 22018\"\"\"\n",
    "\n",
    "gsw_home_games = pd.read_sql(gsw_games, con)"
   ]
  },
  {
   "cell_type": "code",
   "execution_count": 5,
   "id": "assumed-plaintiff",
   "metadata": {},
   "outputs": [],
   "source": [
    "#Puts seasons to be analyzed into list\n",
    "gsw_seasons = gsw_home_games['SEASON_ID'].unique()\n",
    "\n",
    "#Arrays for bar plots\n",
    "gsw_fg_avg_home = []\n",
    "gsw_3pt_avg_home = []\n",
    "gsw_wins_home = []\n",
    "\n",
    "for season in gsw_seasons:\n",
    "    #Creates dataframe containing stats for one season\n",
    "    df_temp = gsw_home_games[gsw_home_games['SEASON_ID'] == season]\n",
    "    #Puts data into arrays\n",
    "    gsw_fg_avg_home.append(df_temp['FG_PCT_HOME'].mean())\n",
    "    gsw_3pt_avg_home.append(df_temp['FG3_PCT_HOME'].mean())\n",
    "    gsw_wins_home.append(df_temp['WL_HOME'].value_counts()[0])"
   ]
  },
  {
   "cell_type": "markdown",
   "id": "civic-terminal",
   "metadata": {},
   "source": [
    "### League home games"
   ]
  },
  {
   "cell_type": "code",
   "execution_count": 6,
   "id": "alone-brazilian",
   "metadata": {},
   "outputs": [],
   "source": [
    "league_home = \"\"\"SELECT \n",
    "                     team_abbreviation_home, \n",
    "                     season_id, \n",
    "                     fg_pct_home, \n",
    "                     fg3_pct_home, \n",
    "                     wl_home\n",
    "                 FROM \n",
    "                     game\n",
    "                 WHERE NOT \n",
    "                     team_abbreviation_home='GSW' \n",
    "                     AND \n",
    "                     season_id BETWEEN 22006 AND 22018\"\"\"\n",
    "\n",
    "league_home_games = pd.read_sql(league_home, con)"
   ]
  },
  {
   "cell_type": "code",
   "execution_count": 7,
   "id": "super-finder",
   "metadata": {},
   "outputs": [],
   "source": [
    "#Puts seasons to be analyzed into list\n",
    "league_seasons = league_home_games['SEASON_ID'].unique()\n",
    "\n",
    "#Arrays to add data for bar plots\n",
    "league_fg_avg_home = []\n",
    "league_3pt_avg_home = []\n",
    "league_wins_avg_home = []\n",
    "\n",
    "for season in league_seasons:\n",
    "    #Creates dataframe containing a single season\n",
    "    df_temp = league_home_games[league_home_games['SEASON_ID'] == season]\n",
    "    #Counts wins and total teams to calculate average league home wins\n",
    "    league_wins = df_temp['WL_HOME'].value_counts()[0]\n",
    "    league_teams = len(df_temp['TEAM_ABBREVIATION_HOME'].unique())\n",
    "    #Adds data to arrays\n",
    "    league_fg_avg_home.append(df_temp['FG_PCT_HOME'].mean())\n",
    "    league_3pt_avg_home.append(df_temp['FG3_PCT_HOME'].mean())\n",
    "    league_wins_avg_home.append(league_wins / league_teams)"
   ]
  },
  {
   "cell_type": "markdown",
   "id": "living-wells",
   "metadata": {},
   "source": [
    "### String parsing for season labels"
   ]
  },
  {
   "cell_type": "code",
   "execution_count": 8,
   "id": "subjective-plasma",
   "metadata": {},
   "outputs": [],
   "source": [
    "seasons = []\n",
    "\n",
    "#Splices string such that season_id is only last to digits (22018 becomes 18)\n",
    "for i in range(len(gsw_seasons)):\n",
    "    seasons.append(gsw_seasons[i][3:])\n",
    "\n",
    "#Adds 19 to be added to last string (to make season 18-19)\n",
    "seasons.append('19')\n",
    "    \n",
    "#joins strings to replicate year span of seasons\n",
    "for i in range(len(seasons)-1):\n",
    "    seasons[i] = '-'.join((seasons[i], seasons[i+1]))\n",
    "\n",
    "#Removes 19 from end of array\n",
    "seasons = np.delete(seasons, len(seasons)-1)"
   ]
  },
  {
   "cell_type": "markdown",
   "id": "cooperative-consultancy",
   "metadata": {},
   "source": [
    "## Bar Plots"
   ]
  },
  {
   "cell_type": "markdown",
   "id": "consolidated-forward",
   "metadata": {},
   "source": [
    "### Field-Goal %"
   ]
  },
  {
   "cell_type": "code",
   "execution_count": 9,
   "id": "emotional-bolivia",
   "metadata": {},
   "outputs": [
    {
     "data": {
      "image/png": "[encoded data removed]",
      "text/plain": [
       "<Figure size 1080x576 with 1 Axes>"
      ]
     },
     "metadata": {
      "needs_background": "light"
     },
     "output_type": "display_data"
    }
   ],
   "source": [
    "plt.figure(figsize=(15,8))\n",
    "\n",
    "\n",
    "bar_width = 0.4\n",
    "x_axis = np.arange(len(seasons))\n",
    "\n",
    "plt.bar(x_axis - (bar_width/2), gsw_fg_avg_home, bar_width, \n",
    "        color='#1D428A', label='Warriors')\n",
    "plt.bar(x_axis + (bar_width/2), league_fg_avg_home, bar_width, \n",
    "        color='tab:orange', label='League')\n",
    "plt.title(\"Average FG% at Home\")\n",
    "plt.xlabel(\"Season\")\n",
    "plt.xticks(x_axis, seasons)\n",
    "plt.ylabel(\"Field Goal %\")\n",
    "plt.ylim(0,0.6)\n",
    "plt.legend()\n",
    "#plt.savefig(\"fgComparison.png\")\n",
    "plt.show()"
   ]
  },
  {
   "cell_type": "markdown",
   "id": "macro-reasoning",
   "metadata": {},
   "source": [
    "### 3-PT %"
   ]
  },
  {
   "cell_type": "code",
   "execution_count": 10,
   "id": "joined-understanding",
   "metadata": {},
   "outputs": [
    {
     "data": {
      "image/png": "[encoded data removed]",
      "text/plain": [
       "<Figure size 1080x576 with 1 Axes>"
      ]
     },
     "metadata": {
      "needs_background": "light"
     },
     "output_type": "display_data"
    }
   ],
   "source": [
    "plt.figure(figsize=(15,8))\n",
    "\n",
    "\n",
    "bar_width = 0.4\n",
    "x_axis = np.arange(len(seasons))\n",
    "\n",
    "plt.bar(x_axis - (bar_width/2), gsw_3pt_avg_home, bar_width, \n",
    "        color='#1D428A', label='Warriors')\n",
    "plt.bar(x_axis + (bar_width/2), league_3pt_avg_home, bar_width, \n",
    "        color='tab:orange', label='League')\n",
    "plt.title(\"Average 3PT% at Home\")\n",
    "plt.xlabel(\"Season\")\n",
    "plt.xticks(x_axis, seasons)\n",
    "plt.ylabel(\"3-PT %\")\n",
    "plt.ylim(0,0.5)\n",
    "plt.legend()\n",
    "#plt.savefig(\"fg3Comparison.png\")\n",
    "plt.show()"
   ]
  },
  {
   "cell_type": "markdown",
   "id": "damaged-creek",
   "metadata": {},
   "source": [
    "### Wins"
   ]
  },
  {
   "cell_type": "code",
   "execution_count": 12,
   "id": "decent-glucose",
   "metadata": {},
   "outputs": [
    {
     "data": {
      "image/png": "[encoded data removed]",
      "text/plain": [
       "<Figure size 1080x576 with 1 Axes>"
      ]
     },
     "metadata": {
      "needs_background": "light"
     },
     "output_type": "display_data"
    }
   ],
   "source": [
    "plt.figure(figsize=(15,8))\n",
    "\n",
    "\n",
    "bar_width = 0.4\n",
    "x_axis = np.arange(len(seasons))\n",
    "\n",
    "plt.bar(x_axis - (bar_width/2), gsw_wins_home, bar_width, \n",
    "        color='#1D428A', label='Warriors')\n",
    "plt.bar(x_axis + (bar_width/2), league_wins_avg_home, bar_width, \n",
    "        color='tab:orange', label='League')\n",
    "plt.title(\"Home Wins Each Season\")\n",
    "plt.xlabel(\"Season\")\n",
    "plt.xticks(x_axis, seasons)\n",
    "plt.ylabel(\"Wins\")\n",
    "plt.ylim(0,42)\n",
    "plt.legend()\n",
    "#plt.savefig(\"winsComparison.png\")\n",
    "plt.show()"
   ]
  },
  {
   "cell_type": "code",
   "execution_count": null,
   "id": "upset-disposal",
   "metadata": {},
   "outputs": [],
   "source": []
  }
 ],
 "metadata": {
  "kernelspec": {
   "display_name": "Python 3",
   "language": "python",
   "name": "python3"
  },
  "language_info": {
   "codemirror_mode": {
    "name": "ipython",
    "version": 3
   },
   "file_extension": ".py",
   "mimetype": "text/x-python",
   "name": "python",
   "nbconvert_exporter": "python",
   "pygments_lexer": "ipython3",
   "version": "3.7.4"
  }
 },
 "nbformat": 4,
 "nbformat_minor": 5
}
