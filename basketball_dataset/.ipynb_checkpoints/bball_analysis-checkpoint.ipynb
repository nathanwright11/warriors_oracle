{
 "cells": [
  {
   "cell_type": "code",
   "execution_count": 1,
   "id": "middle-title",
   "metadata": {},
   "outputs": [],
   "source": [
    "import sqlite3\n",
    "import pandas as pd\n",
    "import numpy as np\n",
    "import matplotlib.pyplot as plt"
   ]
  },
  {
   "cell_type": "markdown",
   "id": "changing-merchant",
   "metadata": {},
   "source": [
    "### Connecting to sqlite database"
   ]
  },
  {
   "cell_type": "code",
   "execution_count": 2,
   "id": "neutral-peripheral",
   "metadata": {},
   "outputs": [],
   "source": [
    "con = sqlite3.connect('basketball.sqlite')"
   ]
  },
  {
   "cell_type": "markdown",
   "id": "smooth-purchase",
   "metadata": {},
   "source": [
    "### Cursor for SQL queries"
   ]
  },
  {
   "cell_type": "code",
   "execution_count": 3,
   "id": "adaptive-transsexual",
   "metadata": {},
   "outputs": [],
   "source": [
    "cur = con.cursor()"
   ]
  },
  {
   "cell_type": "markdown",
   "id": "toxic-munich",
   "metadata": {},
   "source": [
    "## Warriors at home (Oracle Arena) vs. Rest of League at home"
   ]
  },
  {
   "cell_type": "markdown",
   "id": "subtle-maker",
   "metadata": {},
   "source": [
    "In this notebook I compare the Warriors' performance at Oracle compared to how the rest of the league performed at their home arena. I look at their FG%, 3PT%, and Wins."
   ]
  },
  {
   "cell_type": "markdown",
   "id": "optimum-assumption",
   "metadata": {},
   "source": [
    "### Warrior home games"
   ]
  },
  {
   "cell_type": "code",
   "execution_count": 4,
   "id": "handy-repository",
   "metadata": {},
   "outputs": [
    {
     "ename": "DatabaseError",
     "evalue": "Execution failed on sql 'SELECT \n                   team_abbreviation_home, \n                   season_id, \n                   fg_pct_home, \n                   fg3_pct_home, \n                   wl_home\n               FROM \n                   game \n               WHERE \n                   team_abbreviation_home='GSW' \n                   AND \n                   season_id BETWEEN 22006 AND 22018': no such table: game",
     "output_type": "error",
     "traceback": [
      "\u001b[1;31m---------------------------------------------------------------------------\u001b[0m",
      "\u001b[1;31mOperationalError\u001b[0m                          Traceback (most recent call last)",
      "\u001b[1;32m~\\Anaconda3\\lib\\site-packages\\pandas\\io\\sql.py\u001b[0m in \u001b[0;36mexecute\u001b[1;34m(self, *args, **kwargs)\u001b[0m\n\u001b[0;32m   1680\u001b[0m         \u001b[1;32mtry\u001b[0m\u001b[1;33m:\u001b[0m\u001b[1;33m\u001b[0m\u001b[1;33m\u001b[0m\u001b[0m\n\u001b[1;32m-> 1681\u001b[1;33m             \u001b[0mcur\u001b[0m\u001b[1;33m.\u001b[0m\u001b[0mexecute\u001b[0m\u001b[1;33m(\u001b[0m\u001b[1;33m*\u001b[0m\u001b[0margs\u001b[0m\u001b[1;33m,\u001b[0m \u001b[1;33m**\u001b[0m\u001b[0mkwargs\u001b[0m\u001b[1;33m)\u001b[0m\u001b[1;33m\u001b[0m\u001b[1;33m\u001b[0m\u001b[0m\n\u001b[0m\u001b[0;32m   1682\u001b[0m             \u001b[1;32mreturn\u001b[0m \u001b[0mcur\u001b[0m\u001b[1;33m\u001b[0m\u001b[1;33m\u001b[0m\u001b[0m\n",
      "\u001b[1;31mOperationalError\u001b[0m: no such table: game",
      "\nThe above exception was the direct cause of the following exception:\n",
      "\u001b[1;31mDatabaseError\u001b[0m                             Traceback (most recent call last)",
      "\u001b[1;32m<ipython-input-4-02fa7b863031>\u001b[0m in \u001b[0;36m<module>\u001b[1;34m\u001b[0m\n\u001b[0;32m     12\u001b[0m                    season_id BETWEEN 22006 AND 22018\"\"\"\n\u001b[0;32m     13\u001b[0m \u001b[1;33m\u001b[0m\u001b[0m\n\u001b[1;32m---> 14\u001b[1;33m \u001b[0mgsw_home_games\u001b[0m \u001b[1;33m=\u001b[0m \u001b[0mpd\u001b[0m\u001b[1;33m.\u001b[0m\u001b[0mread_sql\u001b[0m\u001b[1;33m(\u001b[0m\u001b[0mgsw_games\u001b[0m\u001b[1;33m,\u001b[0m \u001b[0mcon\u001b[0m\u001b[1;33m)\u001b[0m\u001b[1;33m\u001b[0m\u001b[1;33m\u001b[0m\u001b[0m\n\u001b[0m",
      "\u001b[1;32m~\\Anaconda3\\lib\\site-packages\\pandas\\io\\sql.py\u001b[0m in \u001b[0;36mread_sql\u001b[1;34m(sql, con, index_col, coerce_float, params, parse_dates, columns, chunksize)\u001b[0m\n\u001b[0;32m    487\u001b[0m             \u001b[0mcoerce_float\u001b[0m\u001b[1;33m=\u001b[0m\u001b[0mcoerce_float\u001b[0m\u001b[1;33m,\u001b[0m\u001b[1;33m\u001b[0m\u001b[1;33m\u001b[0m\u001b[0m\n\u001b[0;32m    488\u001b[0m             \u001b[0mparse_dates\u001b[0m\u001b[1;33m=\u001b[0m\u001b[0mparse_dates\u001b[0m\u001b[1;33m,\u001b[0m\u001b[1;33m\u001b[0m\u001b[1;33m\u001b[0m\u001b[0m\n\u001b[1;32m--> 489\u001b[1;33m             \u001b[0mchunksize\u001b[0m\u001b[1;33m=\u001b[0m\u001b[0mchunksize\u001b[0m\u001b[1;33m,\u001b[0m\u001b[1;33m\u001b[0m\u001b[1;33m\u001b[0m\u001b[0m\n\u001b[0m\u001b[0;32m    490\u001b[0m         )\n\u001b[0;32m    491\u001b[0m \u001b[1;33m\u001b[0m\u001b[0m\n",
      "\u001b[1;32m~\\Anaconda3\\lib\\site-packages\\pandas\\io\\sql.py\u001b[0m in \u001b[0;36mread_query\u001b[1;34m(self, sql, index_col, coerce_float, params, parse_dates, chunksize)\u001b[0m\n\u001b[0;32m   1725\u001b[0m \u001b[1;33m\u001b[0m\u001b[0m\n\u001b[0;32m   1726\u001b[0m         \u001b[0margs\u001b[0m \u001b[1;33m=\u001b[0m \u001b[0m_convert_params\u001b[0m\u001b[1;33m(\u001b[0m\u001b[0msql\u001b[0m\u001b[1;33m,\u001b[0m \u001b[0mparams\u001b[0m\u001b[1;33m)\u001b[0m\u001b[1;33m\u001b[0m\u001b[1;33m\u001b[0m\u001b[0m\n\u001b[1;32m-> 1727\u001b[1;33m         \u001b[0mcursor\u001b[0m \u001b[1;33m=\u001b[0m \u001b[0mself\u001b[0m\u001b[1;33m.\u001b[0m\u001b[0mexecute\u001b[0m\u001b[1;33m(\u001b[0m\u001b[1;33m*\u001b[0m\u001b[0margs\u001b[0m\u001b[1;33m)\u001b[0m\u001b[1;33m\u001b[0m\u001b[1;33m\u001b[0m\u001b[0m\n\u001b[0m\u001b[0;32m   1728\u001b[0m         \u001b[0mcolumns\u001b[0m \u001b[1;33m=\u001b[0m \u001b[1;33m[\u001b[0m\u001b[0mcol_desc\u001b[0m\u001b[1;33m[\u001b[0m\u001b[1;36m0\u001b[0m\u001b[1;33m]\u001b[0m \u001b[1;32mfor\u001b[0m \u001b[0mcol_desc\u001b[0m \u001b[1;32min\u001b[0m \u001b[0mcursor\u001b[0m\u001b[1;33m.\u001b[0m\u001b[0mdescription\u001b[0m\u001b[1;33m]\u001b[0m\u001b[1;33m\u001b[0m\u001b[1;33m\u001b[0m\u001b[0m\n\u001b[0;32m   1729\u001b[0m \u001b[1;33m\u001b[0m\u001b[0m\n",
      "\u001b[1;32m~\\Anaconda3\\lib\\site-packages\\pandas\\io\\sql.py\u001b[0m in \u001b[0;36mexecute\u001b[1;34m(self, *args, **kwargs)\u001b[0m\n\u001b[0;32m   1691\u001b[0m \u001b[1;33m\u001b[0m\u001b[0m\n\u001b[0;32m   1692\u001b[0m             \u001b[0mex\u001b[0m \u001b[1;33m=\u001b[0m \u001b[0mDatabaseError\u001b[0m\u001b[1;33m(\u001b[0m\u001b[1;34mf\"Execution failed on sql '{args[0]}': {exc}\"\u001b[0m\u001b[1;33m)\u001b[0m\u001b[1;33m\u001b[0m\u001b[1;33m\u001b[0m\u001b[0m\n\u001b[1;32m-> 1693\u001b[1;33m             \u001b[1;32mraise\u001b[0m \u001b[0mex\u001b[0m \u001b[1;32mfrom\u001b[0m \u001b[0mexc\u001b[0m\u001b[1;33m\u001b[0m\u001b[1;33m\u001b[0m\u001b[0m\n\u001b[0m\u001b[0;32m   1694\u001b[0m \u001b[1;33m\u001b[0m\u001b[0m\n\u001b[0;32m   1695\u001b[0m     \u001b[1;33m@\u001b[0m\u001b[0mstaticmethod\u001b[0m\u001b[1;33m\u001b[0m\u001b[1;33m\u001b[0m\u001b[0m\n",
      "\u001b[1;31mDatabaseError\u001b[0m: Execution failed on sql 'SELECT \n                   team_abbreviation_home, \n                   season_id, \n                   fg_pct_home, \n                   fg3_pct_home, \n                   wl_home\n               FROM \n                   game \n               WHERE \n                   team_abbreviation_home='GSW' \n                   AND \n                   season_id BETWEEN 22006 AND 22018': no such table: game"
     ]
    }
   ],
   "source": [
    "gsw_games = \"\"\"SELECT \n",
    "                   team_abbreviation_home, \n",
    "                   season_id, \n",
    "                   fg_pct_home, \n",
    "                   fg3_pct_home, \n",
    "                   wl_home\n",
    "               FROM \n",
    "                   game \n",
    "               WHERE \n",
    "                   team_abbreviation_home='GSW' \n",
    "                   AND \n",
    "                   season_id BETWEEN 22006 AND 22018\"\"\"\n",
    "\n",
    "gsw_home_games = pd.read_sql(gsw_games, con)"
   ]
  },
  {
   "cell_type": "code",
   "execution_count": null,
   "id": "angry-privilege",
   "metadata": {},
   "outputs": [],
   "source": [
    "#Puts seasons to be analyzed into list\n",
    "gsw_seasons = gsw_home_games['SEASON_ID'].unique()\n",
    "\n",
    "#Arrays for bar plots\n",
    "gsw_fg_avg_home = []\n",
    "gsw_3pt_avg_home = []\n",
    "gsw_wins_home = []\n",
    "\n",
    "for season in gsw_seasons:\n",
    "    #Creates dataframe containing stats for one season\n",
    "    df_temp = gsw_home_games[gsw_home_games['SEASON_ID'] == season]\n",
    "    #Puts data into arrays\n",
    "    gsw_fg_avg_home.append(df_temp['FG_PCT_HOME'].mean())\n",
    "    gsw_3pt_avg_home.append(df_temp['FG3_PCT_HOME'].mean())\n",
    "    gsw_wins_home.append(df_temp['WL_HOME'].value_counts()[0])"
   ]
  },
  {
   "cell_type": "markdown",
   "id": "outer-hearts",
   "metadata": {},
   "source": [
    "### League home games"
   ]
  },
  {
   "cell_type": "code",
   "execution_count": 5,
   "id": "cordless-danish",
   "metadata": {},
   "outputs": [
    {
     "ename": "DatabaseError",
     "evalue": "Execution failed on sql 'SELECT \n                     team_abbreviation_home, \n                     season_id, \n                     fg_pct_home, \n                     fg3_pct_home, \n                     wl_home\n                 FROM \n                     game\n                 WHERE NOT \n                     team_abbreviation_home='GSW' \n                     AND \n                     season_id BETWEEN 22006 AND 22018': no such table: game",
     "output_type": "error",
     "traceback": [
      "\u001b[1;31m---------------------------------------------------------------------------\u001b[0m",
      "\u001b[1;31mOperationalError\u001b[0m                          Traceback (most recent call last)",
      "\u001b[1;32m~\\Anaconda3\\lib\\site-packages\\pandas\\io\\sql.py\u001b[0m in \u001b[0;36mexecute\u001b[1;34m(self, *args, **kwargs)\u001b[0m\n\u001b[0;32m   1680\u001b[0m         \u001b[1;32mtry\u001b[0m\u001b[1;33m:\u001b[0m\u001b[1;33m\u001b[0m\u001b[1;33m\u001b[0m\u001b[0m\n\u001b[1;32m-> 1681\u001b[1;33m             \u001b[0mcur\u001b[0m\u001b[1;33m.\u001b[0m\u001b[0mexecute\u001b[0m\u001b[1;33m(\u001b[0m\u001b[1;33m*\u001b[0m\u001b[0margs\u001b[0m\u001b[1;33m,\u001b[0m \u001b[1;33m**\u001b[0m\u001b[0mkwargs\u001b[0m\u001b[1;33m)\u001b[0m\u001b[1;33m\u001b[0m\u001b[1;33m\u001b[0m\u001b[0m\n\u001b[0m\u001b[0;32m   1682\u001b[0m             \u001b[1;32mreturn\u001b[0m \u001b[0mcur\u001b[0m\u001b[1;33m\u001b[0m\u001b[1;33m\u001b[0m\u001b[0m\n",
      "\u001b[1;31mOperationalError\u001b[0m: no such table: game",
      "\nThe above exception was the direct cause of the following exception:\n",
      "\u001b[1;31mDatabaseError\u001b[0m                             Traceback (most recent call last)",
      "\u001b[1;32m<ipython-input-5-035eb3927486>\u001b[0m in \u001b[0;36m<module>\u001b[1;34m\u001b[0m\n\u001b[0;32m     12\u001b[0m                      season_id BETWEEN 22006 AND 22018\"\"\"\n\u001b[0;32m     13\u001b[0m \u001b[1;33m\u001b[0m\u001b[0m\n\u001b[1;32m---> 14\u001b[1;33m \u001b[0mleague_home_games\u001b[0m \u001b[1;33m=\u001b[0m \u001b[0mpd\u001b[0m\u001b[1;33m.\u001b[0m\u001b[0mread_sql\u001b[0m\u001b[1;33m(\u001b[0m\u001b[0mleague_home\u001b[0m\u001b[1;33m,\u001b[0m \u001b[0mcon\u001b[0m\u001b[1;33m)\u001b[0m\u001b[1;33m\u001b[0m\u001b[1;33m\u001b[0m\u001b[0m\n\u001b[0m",
      "\u001b[1;32m~\\Anaconda3\\lib\\site-packages\\pandas\\io\\sql.py\u001b[0m in \u001b[0;36mread_sql\u001b[1;34m(sql, con, index_col, coerce_float, params, parse_dates, columns, chunksize)\u001b[0m\n\u001b[0;32m    487\u001b[0m             \u001b[0mcoerce_float\u001b[0m\u001b[1;33m=\u001b[0m\u001b[0mcoerce_float\u001b[0m\u001b[1;33m,\u001b[0m\u001b[1;33m\u001b[0m\u001b[1;33m\u001b[0m\u001b[0m\n\u001b[0;32m    488\u001b[0m             \u001b[0mparse_dates\u001b[0m\u001b[1;33m=\u001b[0m\u001b[0mparse_dates\u001b[0m\u001b[1;33m,\u001b[0m\u001b[1;33m\u001b[0m\u001b[1;33m\u001b[0m\u001b[0m\n\u001b[1;32m--> 489\u001b[1;33m             \u001b[0mchunksize\u001b[0m\u001b[1;33m=\u001b[0m\u001b[0mchunksize\u001b[0m\u001b[1;33m,\u001b[0m\u001b[1;33m\u001b[0m\u001b[1;33m\u001b[0m\u001b[0m\n\u001b[0m\u001b[0;32m    490\u001b[0m         )\n\u001b[0;32m    491\u001b[0m \u001b[1;33m\u001b[0m\u001b[0m\n",
      "\u001b[1;32m~\\Anaconda3\\lib\\site-packages\\pandas\\io\\sql.py\u001b[0m in \u001b[0;36mread_query\u001b[1;34m(self, sql, index_col, coerce_float, params, parse_dates, chunksize)\u001b[0m\n\u001b[0;32m   1725\u001b[0m \u001b[1;33m\u001b[0m\u001b[0m\n\u001b[0;32m   1726\u001b[0m         \u001b[0margs\u001b[0m \u001b[1;33m=\u001b[0m \u001b[0m_convert_params\u001b[0m\u001b[1;33m(\u001b[0m\u001b[0msql\u001b[0m\u001b[1;33m,\u001b[0m \u001b[0mparams\u001b[0m\u001b[1;33m)\u001b[0m\u001b[1;33m\u001b[0m\u001b[1;33m\u001b[0m\u001b[0m\n\u001b[1;32m-> 1727\u001b[1;33m         \u001b[0mcursor\u001b[0m \u001b[1;33m=\u001b[0m \u001b[0mself\u001b[0m\u001b[1;33m.\u001b[0m\u001b[0mexecute\u001b[0m\u001b[1;33m(\u001b[0m\u001b[1;33m*\u001b[0m\u001b[0margs\u001b[0m\u001b[1;33m)\u001b[0m\u001b[1;33m\u001b[0m\u001b[1;33m\u001b[0m\u001b[0m\n\u001b[0m\u001b[0;32m   1728\u001b[0m         \u001b[0mcolumns\u001b[0m \u001b[1;33m=\u001b[0m \u001b[1;33m[\u001b[0m\u001b[0mcol_desc\u001b[0m\u001b[1;33m[\u001b[0m\u001b[1;36m0\u001b[0m\u001b[1;33m]\u001b[0m \u001b[1;32mfor\u001b[0m \u001b[0mcol_desc\u001b[0m \u001b[1;32min\u001b[0m \u001b[0mcursor\u001b[0m\u001b[1;33m.\u001b[0m\u001b[0mdescription\u001b[0m\u001b[1;33m]\u001b[0m\u001b[1;33m\u001b[0m\u001b[1;33m\u001b[0m\u001b[0m\n\u001b[0;32m   1729\u001b[0m \u001b[1;33m\u001b[0m\u001b[0m\n",
      "\u001b[1;32m~\\Anaconda3\\lib\\site-packages\\pandas\\io\\sql.py\u001b[0m in \u001b[0;36mexecute\u001b[1;34m(self, *args, **kwargs)\u001b[0m\n\u001b[0;32m   1691\u001b[0m \u001b[1;33m\u001b[0m\u001b[0m\n\u001b[0;32m   1692\u001b[0m             \u001b[0mex\u001b[0m \u001b[1;33m=\u001b[0m \u001b[0mDatabaseError\u001b[0m\u001b[1;33m(\u001b[0m\u001b[1;34mf\"Execution failed on sql '{args[0]}': {exc}\"\u001b[0m\u001b[1;33m)\u001b[0m\u001b[1;33m\u001b[0m\u001b[1;33m\u001b[0m\u001b[0m\n\u001b[1;32m-> 1693\u001b[1;33m             \u001b[1;32mraise\u001b[0m \u001b[0mex\u001b[0m \u001b[1;32mfrom\u001b[0m \u001b[0mexc\u001b[0m\u001b[1;33m\u001b[0m\u001b[1;33m\u001b[0m\u001b[0m\n\u001b[0m\u001b[0;32m   1694\u001b[0m \u001b[1;33m\u001b[0m\u001b[0m\n\u001b[0;32m   1695\u001b[0m     \u001b[1;33m@\u001b[0m\u001b[0mstaticmethod\u001b[0m\u001b[1;33m\u001b[0m\u001b[1;33m\u001b[0m\u001b[0m\n",
      "\u001b[1;31mDatabaseError\u001b[0m: Execution failed on sql 'SELECT \n                     team_abbreviation_home, \n                     season_id, \n                     fg_pct_home, \n                     fg3_pct_home, \n                     wl_home\n                 FROM \n                     game\n                 WHERE NOT \n                     team_abbreviation_home='GSW' \n                     AND \n                     season_id BETWEEN 22006 AND 22018': no such table: game"
     ]
    }
   ],
   "source": [
    "league_home = \"\"\"SELECT \n",
    "                     team_abbreviation_home, \n",
    "                     season_id, \n",
    "                     fg_pct_home, \n",
    "                     fg3_pct_home, \n",
    "                     wl_home\n",
    "                 FROM \n",
    "                     game\n",
    "                 WHERE NOT \n",
    "                     team_abbreviation_home='GSW' \n",
    "                     AND \n",
    "                     season_id BETWEEN 22006 AND 22018\"\"\"\n",
    "\n",
    "league_home_games = pd.read_sql(league_home, con)"
   ]
  },
  {
   "cell_type": "code",
   "execution_count": null,
   "id": "finite-cleaners",
   "metadata": {},
   "outputs": [],
   "source": [
    "#Puts seasons to be analyzed into list\n",
    "league_seasons = league_home_games['SEASON_ID'].unique()\n",
    "\n",
    "#Arrays to add data for bar plots\n",
    "league_fg_avg_home = []\n",
    "league_3pt_avg_home = []\n",
    "league_wins_avg_home = []\n",
    "\n",
    "for season in league_seasons:\n",
    "    #Creates dataframe containing a single season\n",
    "    df_temp = league_home_games[league_home_games['SEASON_ID'] == season]\n",
    "    #Counts wins and total teams to calculate average league home wins\n",
    "    league_wins = df_temp['WL_HOME'].value_counts()[0]\n",
    "    league_teams = len(df_temp['TEAM_ABBREVIATION_HOME'].unique())\n",
    "    #Adds data to arrays\n",
    "    league_fg_avg_home.append(df_temp['FG_PCT_HOME'].mean())\n",
    "    league_3pt_avg_home.append(df_temp['FG3_PCT_HOME'].mean())\n",
    "    league_wins_avg_home.append(league_wins / league_teams)"
   ]
  },
  {
   "cell_type": "markdown",
   "id": "classical-utilization",
   "metadata": {},
   "source": [
    "### String parsing for season labels"
   ]
  },
  {
   "cell_type": "code",
   "execution_count": null,
   "id": "intended-detective",
   "metadata": {},
   "outputs": [],
   "source": [
    "seasons = []\n",
    "\n",
    "#Splices string such that season_id is only last to digits (22018 becomes 18)\n",
    "for i in range(len(gsw_seasons)):\n",
    "    seasons.append(gsw_seasons[i][3:])\n",
    "\n",
    "#Adds 19 to be added to last string (to make season 18-19)\n",
    "seasons.append('19')\n",
    "    \n",
    "#joins strings to replicate year span of seasons\n",
    "for i in range(len(seasons)-1):\n",
    "    seasons[i] = '-'.join((seasons[i], seasons[i+1]))\n",
    "\n",
    "#Removes 19 from end of array\n",
    "seasons = np.delete(seasons, len(seasons)-1)"
   ]
  },
  {
   "cell_type": "markdown",
   "id": "interracial-hydrogen",
   "metadata": {},
   "source": [
    "## Bar Plots"
   ]
  },
  {
   "cell_type": "markdown",
   "id": "balanced-botswana",
   "metadata": {},
   "source": [
    "### Field-Goal %"
   ]
  },
  {
   "cell_type": "code",
   "execution_count": null,
   "id": "aggressive-prefix",
   "metadata": {},
   "outputs": [],
   "source": [
    "plt.figure(figsize=(15,8))\n",
    "\n",
    "\n",
    "bar_width = 0.4\n",
    "x_axis = np.arange(len(seasons))\n",
    "\n",
    "plt.bar(x_axis - (bar_width/2), gsw_fg_avg_home, bar_width, \n",
    "        color='#1D428A', label='Warriors')\n",
    "plt.bar(x_axis + (bar_width/2), league_fg_avg_home, bar_width, \n",
    "        color='tab:orange', label='League')\n",
    "plt.title(\"Warriors FG% at Oracle Arena vs. Rest of League at home\")\n",
    "plt.xlabel(\"Season\")\n",
    "plt.xticks(x_axis, seasons)\n",
    "plt.ylabel(\"Field Goal %\")\n",
    "plt.ylim(0,0.6)\n",
    "plt.legend()\n",
    "#plt.savefig(\"fgComparison.png\")\n",
    "plt.show()"
   ]
  },
  {
   "cell_type": "markdown",
   "id": "olive-composer",
   "metadata": {},
   "source": [
    "### 3-PT %"
   ]
  },
  {
   "cell_type": "code",
   "execution_count": null,
   "id": "spoken-torture",
   "metadata": {},
   "outputs": [],
   "source": [
    "plt.figure(figsize=(15,8))\n",
    "\n",
    "\n",
    "bar_width = 0.4\n",
    "x_axis = np.arange(len(seasons))\n",
    "\n",
    "plt.bar(x_axis - (bar_width/2), gsw_3pt_avg_home, bar_width, \n",
    "        color='#1D428A', label='Warriors')\n",
    "plt.bar(x_axis + (bar_width/2), league_3pt_avg_home, bar_width, \n",
    "        color='tab:orange', label='League')\n",
    "plt.title(\"Warriors 3PT% at Oracle Arena vs. League average at home\")\n",
    "plt.xlabel(\"Season\")\n",
    "plt.xticks(x_axis, seasons)\n",
    "plt.ylabel(\"3-PT %\")\n",
    "plt.ylim(0,0.5)\n",
    "plt.legend()\n",
    "#plt.savefig(\"fg3Comparison.png\")\n",
    "plt.show()"
   ]
  },
  {
   "cell_type": "markdown",
   "id": "wound-flooring",
   "metadata": {},
   "source": [
    "### Wins"
   ]
  },
  {
   "cell_type": "code",
   "execution_count": null,
   "id": "bridal-haven",
   "metadata": {},
   "outputs": [],
   "source": [
    "plt.figure(figsize=(15,8))\n",
    "\n",
    "\n",
    "bar_width = 0.4\n",
    "x_axis = np.arange(len(seasons))\n",
    "\n",
    "plt.bar(x_axis - (bar_width/2), gsw_wins_home, bar_width, \n",
    "        color='#1D428A', label='Warriors')\n",
    "plt.bar(x_axis + (bar_width/2), league_wins_avg_home, bar_width, \n",
    "        color='tab:orange', label='League')\n",
    "plt.title(\"Warrior wins at Oracle Arena vs. League win average at home\")\n",
    "plt.xlabel(\"Season\")\n",
    "plt.xticks(x_axis, seasons)\n",
    "plt.ylabel(\"Wins\")\n",
    "plt.ylim(0,42)\n",
    "plt.legend()\n",
    "#plt.savefig(\"winsComparison.png\")\n",
    "plt.show()"
   ]
  },
  {
   "cell_type": "code",
   "execution_count": null,
   "id": "respected-booth",
   "metadata": {},
   "outputs": [],
   "source": []
  }
 ],
 "metadata": {
  "kernelspec": {
   "display_name": "Python 3",
   "language": "python",
   "name": "python3"
  },
  "language_info": {
   "codemirror_mode": {
    "name": "ipython",
    "version": 3
   },
   "file_extension": ".py",
   "mimetype": "text/x-python",
   "name": "python",
   "nbconvert_exporter": "python",
   "pygments_lexer": "ipython3",
   "version": "3.7.4"
  }
 },
 "nbformat": 4,
 "nbformat_minor": 5
}
